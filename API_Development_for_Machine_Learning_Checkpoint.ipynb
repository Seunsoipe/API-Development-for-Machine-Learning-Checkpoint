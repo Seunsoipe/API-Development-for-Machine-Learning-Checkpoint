{
  "nbformat": 4,
  "nbformat_minor": 0,
  "metadata": {
    "colab": {
      "provenance": [],
      "authorship_tag": "ABX9TyOXV/3p2NDo+z/LXMp3xIF/",
      "include_colab_link": true
    },
    "kernelspec": {
      "name": "python3",
      "display_name": "Python 3"
    },
    "language_info": {
      "name": "python"
    }
  },
  "cells": [
    {
      "cell_type": "markdown",
      "metadata": {
        "id": "view-in-github",
        "colab_type": "text"
      },
      "source": [
        "<a href=\"https://colab.research.google.com/github/Seunsoipe/API-Development-for-Machine-Learning-Checkpoint/blob/main/API_Development_for_Machine_Learning_Checkpoint.ipynb\" target=\"_parent\"><img src=\"https://colab.research.google.com/assets/colab-badge.svg\" alt=\"Open In Colab\"/></a>"
      ]
    },
    {
      "cell_type": "markdown",
      "source": [
        "Objective\n",
        "\n",
        "In this checkpoint, you will be able to make your first API request\n",
        "\n",
        "Instructions\n",
        "\n",
        "Define an API\n",
        "Get the request API from this url (http://api.open-notify.org/astros.json)\n",
        "\n",
        "Show us the status code of response\n",
        "\n",
        "Extract data from the this API using json\n",
        "\n",
        "Create a dataframe containing your final data from your obtained json data."
      ],
      "metadata": {
        "id": "JliHPzIVNv9H"
      }
    },
    {
      "cell_type": "markdown",
      "source": [
        "## What is an API?\n",
        "\n",
        "An application programming interface (API) is a way for two or more computer programs to communicate with each other. It is a type of software interface, offering a service to other pieces of software.[1] A document or standard that describes how to build or use such a connection or interface is called an API specification. A computer system that meets this standard is said to implement or expose an API. The term API may refer either to the specification or to the implementation.\n",
        "\n",
        "In contrast to a user interface, which connects a computer to a person, an application programming interface connects computers or pieces of software to each other.\n",
        "\n",
        "\n",
        "\n",
        "Reference:https://en.wikipedia.org/wiki/API"
      ],
      "metadata": {
        "id": "Np_6x9vJOPw9"
      }
    },
    {
      "cell_type": "code",
      "execution_count": 1,
      "metadata": {
        "id": "5Kaxrg7JNg_G"
      },
      "outputs": [],
      "source": [
        "import requests"
      ]
    },
    {
      "cell_type": "code",
      "source": [
        "res = requests.get('http://api.open-notify.org/astros.json')"
      ],
      "metadata": {
        "id": "oBj3C8H7N6ZV"
      },
      "execution_count": 16,
      "outputs": []
    },
    {
      "cell_type": "markdown",
      "source": [
        "## Status code of response"
      ],
      "metadata": {
        "id": "9LgUyyiCSMR0"
      }
    },
    {
      "cell_type": "code",
      "source": [
        "res.status_code"
      ],
      "metadata": {
        "colab": {
          "base_uri": "https://localhost:8080/"
        },
        "id": "AdIY5sTdOF9L",
        "outputId": "a17d7e46-1015-4a24-bd71-a7036c19a8df"
      },
      "execution_count": 17,
      "outputs": [
        {
          "output_type": "execute_result",
          "data": {
            "text/plain": [
              "200"
            ]
          },
          "metadata": {},
          "execution_count": 17
        }
      ]
    },
    {
      "cell_type": "markdown",
      "source": [
        "## Extracting data from the API using json"
      ],
      "metadata": {
        "id": "D7DftqqZSV4w"
      }
    },
    {
      "cell_type": "code",
      "source": [
        "res.headers"
      ],
      "metadata": {
        "colab": {
          "base_uri": "https://localhost:8080/"
        },
        "id": "JekuUrGvOJJU",
        "outputId": "0188a0af-d2a3-481b-acb2-d48eaf578c71"
      },
      "execution_count": 18,
      "outputs": [
        {
          "output_type": "execute_result",
          "data": {
            "text/plain": [
              "{'Server': 'nginx/1.10.3', 'Date': 'Tue, 06 Dec 2022 11:45:42 GMT', 'Content-Type': 'application/json', 'Content-Length': '623', 'Connection': 'keep-alive', 'access-control-allow-origin': '*'}"
            ]
          },
          "metadata": {},
          "execution_count": 18
        }
      ]
    },
    {
      "cell_type": "code",
      "source": [
        "response = requests.get(\n",
        "    'http://api.open-notify.org/astros.json',\n",
        "    params={'q': 'requests+language:python'},\n",
        ")"
      ],
      "metadata": {
        "id": "ZSqdh7piOlj1"
      },
      "execution_count": 19,
      "outputs": []
    },
    {
      "cell_type": "code",
      "source": [
        "response"
      ],
      "metadata": {
        "colab": {
          "base_uri": "https://localhost:8080/"
        },
        "id": "K1K1EaYROr0o",
        "outputId": "179ae67d-dc58-4e54-e1ae-6280dbcbeef4"
      },
      "execution_count": 20,
      "outputs": [
        {
          "output_type": "execute_result",
          "data": {
            "text/plain": [
              "<Response [200]>"
            ]
          },
          "metadata": {},
          "execution_count": 20
        }
      ]
    },
    {
      "cell_type": "code",
      "source": [
        "json_res = response.json()\n",
        "\n",
        "json_res"
      ],
      "metadata": {
        "colab": {
          "base_uri": "https://localhost:8080/"
        },
        "id": "dOkDRbJAOuq5",
        "outputId": "32710e70-b6a1-4e05-e88f-f173419533ea"
      },
      "execution_count": 21,
      "outputs": [
        {
          "output_type": "execute_result",
          "data": {
            "text/plain": [
              "{'people': [{'craft': 'Tiangong', 'name': 'Cai Xuzhe'},\n",
              "  {'craft': 'Tiangong', 'name': 'Chen Dong'},\n",
              "  {'craft': 'Tiangong', 'name': 'Liu Yang'},\n",
              "  {'craft': 'ISS', 'name': 'Sergey Prokopyev'},\n",
              "  {'craft': 'ISS', 'name': 'Dmitry Petelin'},\n",
              "  {'craft': 'ISS', 'name': 'Frank Rubio'},\n",
              "  {'craft': 'ISS', 'name': 'Nicole Mann'},\n",
              "  {'craft': 'ISS', 'name': 'Josh Cassada'},\n",
              "  {'craft': 'ISS', 'name': 'Koichi Wakata'},\n",
              "  {'craft': 'ISS', 'name': 'Anna Kikina'},\n",
              "  {'craft': 'Shenzhou 15', 'name': 'Fei Junlong'},\n",
              "  {'craft': 'Shenzhou 15', 'name': 'Deng Qingming'},\n",
              "  {'craft': 'Shenzhou 15', 'name': 'Zhang Lu'}],\n",
              " 'number': 13,\n",
              " 'message': 'success'}"
            ]
          },
          "metadata": {},
          "execution_count": 21
        }
      ]
    },
    {
      "cell_type": "code",
      "source": [
        "json_response = response.json()\n",
        "print(f'Repository name: {repository[\"name\"]}')  # Python 3.6+\n",
        "print(f'Repository description: {repository[\"description\"]}')  # Python 3.6+\n",
        " "
      ],
      "metadata": {
        "colab": {
          "base_uri": "https://localhost:8080/"
        },
        "id": "1ihrQTh-OzPy",
        "outputId": "c0ae6548-dbd7-4616-a0fa-fb07ee0c55b1"
      },
      "execution_count": 24,
      "outputs": [
        {
          "output_type": "stream",
          "name": "stdout",
          "text": [
            "Repository name: grequests\n",
            "Repository description: Requests + Gevent = <3\n"
          ]
        }
      ]
    },
    {
      "cell_type": "code",
      "source": [
        "import json\n",
        "\n",
        "data= json.loads(response.text)"
      ],
      "metadata": {
        "id": "aFbzCZTjO6jx"
      },
      "execution_count": 25,
      "outputs": []
    },
    {
      "cell_type": "code",
      "source": [
        "data"
      ],
      "metadata": {
        "colab": {
          "base_uri": "https://localhost:8080/"
        },
        "id": "BcVk-U74RYbA",
        "outputId": "e336a12f-1994-45ab-820b-2863b72e0180"
      },
      "execution_count": 33,
      "outputs": [
        {
          "output_type": "execute_result",
          "data": {
            "text/plain": [
              "{'people': [{'craft': 'Tiangong', 'name': 'Cai Xuzhe'},\n",
              "  {'craft': 'Tiangong', 'name': 'Chen Dong'},\n",
              "  {'craft': 'Tiangong', 'name': 'Liu Yang'},\n",
              "  {'craft': 'ISS', 'name': 'Sergey Prokopyev'},\n",
              "  {'craft': 'ISS', 'name': 'Dmitry Petelin'},\n",
              "  {'craft': 'ISS', 'name': 'Frank Rubio'},\n",
              "  {'craft': 'ISS', 'name': 'Nicole Mann'},\n",
              "  {'craft': 'ISS', 'name': 'Josh Cassada'},\n",
              "  {'craft': 'ISS', 'name': 'Koichi Wakata'},\n",
              "  {'craft': 'ISS', 'name': 'Anna Kikina'},\n",
              "  {'craft': 'Shenzhou 15', 'name': 'Fei Junlong'},\n",
              "  {'craft': 'Shenzhou 15', 'name': 'Deng Qingming'},\n",
              "  {'craft': 'Shenzhou 15', 'name': 'Zhang Lu'}],\n",
              " 'number': 13,\n",
              " 'message': 'success'}"
            ]
          },
          "metadata": {},
          "execution_count": 33
        }
      ]
    },
    {
      "cell_type": "markdown",
      "source": [
        "## Creating a dataframe"
      ],
      "metadata": {
        "id": "b_kAx9fVSgvt"
      }
    },
    {
      "cell_type": "code",
      "source": [
        "import pandas as pd"
      ],
      "metadata": {
        "id": "8ECNFzZMPC7P"
      },
      "execution_count": 34,
      "outputs": []
    },
    {
      "cell_type": "code",
      "source": [
        "df = pd.DataFrame.from_dict(data, orient='columns')\n"
      ],
      "metadata": {
        "id": "yNvml0JmPfAi"
      },
      "execution_count": 31,
      "outputs": []
    },
    {
      "cell_type": "code",
      "source": [
        "df"
      ],
      "metadata": {
        "colab": {
          "base_uri": "https://localhost:8080/",
          "height": 457
        },
        "id": "ClTueJdiP31t",
        "outputId": "f7f53a8c-55de-4414-bc1e-7051b025add5"
      },
      "execution_count": 37,
      "outputs": [
        {
          "output_type": "execute_result",
          "data": {
            "text/plain": [
              "                                               people  number  message\n",
              "0          {'craft': 'Tiangong', 'name': 'Cai Xuzhe'}      13  success\n",
              "1          {'craft': 'Tiangong', 'name': 'Chen Dong'}      13  success\n",
              "2           {'craft': 'Tiangong', 'name': 'Liu Yang'}      13  success\n",
              "3        {'craft': 'ISS', 'name': 'Sergey Prokopyev'}      13  success\n",
              "4          {'craft': 'ISS', 'name': 'Dmitry Petelin'}      13  success\n",
              "5             {'craft': 'ISS', 'name': 'Frank Rubio'}      13  success\n",
              "6             {'craft': 'ISS', 'name': 'Nicole Mann'}      13  success\n",
              "7            {'craft': 'ISS', 'name': 'Josh Cassada'}      13  success\n",
              "8           {'craft': 'ISS', 'name': 'Koichi Wakata'}      13  success\n",
              "9             {'craft': 'ISS', 'name': 'Anna Kikina'}      13  success\n",
              "10    {'craft': 'Shenzhou 15', 'name': 'Fei Junlong'}      13  success\n",
              "11  {'craft': 'Shenzhou 15', 'name': 'Deng Qingming'}      13  success\n",
              "12       {'craft': 'Shenzhou 15', 'name': 'Zhang Lu'}      13  success"
            ],
            "text/html": [
              "\n",
              "  <div id=\"df-383ea816-cb8f-4ff7-9730-50af0a5921b6\">\n",
              "    <div class=\"colab-df-container\">\n",
              "      <div>\n",
              "<style scoped>\n",
              "    .dataframe tbody tr th:only-of-type {\n",
              "        vertical-align: middle;\n",
              "    }\n",
              "\n",
              "    .dataframe tbody tr th {\n",
              "        vertical-align: top;\n",
              "    }\n",
              "\n",
              "    .dataframe thead th {\n",
              "        text-align: right;\n",
              "    }\n",
              "</style>\n",
              "<table border=\"1\" class=\"dataframe\">\n",
              "  <thead>\n",
              "    <tr style=\"text-align: right;\">\n",
              "      <th></th>\n",
              "      <th>people</th>\n",
              "      <th>number</th>\n",
              "      <th>message</th>\n",
              "    </tr>\n",
              "  </thead>\n",
              "  <tbody>\n",
              "    <tr>\n",
              "      <th>0</th>\n",
              "      <td>{'craft': 'Tiangong', 'name': 'Cai Xuzhe'}</td>\n",
              "      <td>13</td>\n",
              "      <td>success</td>\n",
              "    </tr>\n",
              "    <tr>\n",
              "      <th>1</th>\n",
              "      <td>{'craft': 'Tiangong', 'name': 'Chen Dong'}</td>\n",
              "      <td>13</td>\n",
              "      <td>success</td>\n",
              "    </tr>\n",
              "    <tr>\n",
              "      <th>2</th>\n",
              "      <td>{'craft': 'Tiangong', 'name': 'Liu Yang'}</td>\n",
              "      <td>13</td>\n",
              "      <td>success</td>\n",
              "    </tr>\n",
              "    <tr>\n",
              "      <th>3</th>\n",
              "      <td>{'craft': 'ISS', 'name': 'Sergey Prokopyev'}</td>\n",
              "      <td>13</td>\n",
              "      <td>success</td>\n",
              "    </tr>\n",
              "    <tr>\n",
              "      <th>4</th>\n",
              "      <td>{'craft': 'ISS', 'name': 'Dmitry Petelin'}</td>\n",
              "      <td>13</td>\n",
              "      <td>success</td>\n",
              "    </tr>\n",
              "    <tr>\n",
              "      <th>5</th>\n",
              "      <td>{'craft': 'ISS', 'name': 'Frank Rubio'}</td>\n",
              "      <td>13</td>\n",
              "      <td>success</td>\n",
              "    </tr>\n",
              "    <tr>\n",
              "      <th>6</th>\n",
              "      <td>{'craft': 'ISS', 'name': 'Nicole Mann'}</td>\n",
              "      <td>13</td>\n",
              "      <td>success</td>\n",
              "    </tr>\n",
              "    <tr>\n",
              "      <th>7</th>\n",
              "      <td>{'craft': 'ISS', 'name': 'Josh Cassada'}</td>\n",
              "      <td>13</td>\n",
              "      <td>success</td>\n",
              "    </tr>\n",
              "    <tr>\n",
              "      <th>8</th>\n",
              "      <td>{'craft': 'ISS', 'name': 'Koichi Wakata'}</td>\n",
              "      <td>13</td>\n",
              "      <td>success</td>\n",
              "    </tr>\n",
              "    <tr>\n",
              "      <th>9</th>\n",
              "      <td>{'craft': 'ISS', 'name': 'Anna Kikina'}</td>\n",
              "      <td>13</td>\n",
              "      <td>success</td>\n",
              "    </tr>\n",
              "    <tr>\n",
              "      <th>10</th>\n",
              "      <td>{'craft': 'Shenzhou 15', 'name': 'Fei Junlong'}</td>\n",
              "      <td>13</td>\n",
              "      <td>success</td>\n",
              "    </tr>\n",
              "    <tr>\n",
              "      <th>11</th>\n",
              "      <td>{'craft': 'Shenzhou 15', 'name': 'Deng Qingming'}</td>\n",
              "      <td>13</td>\n",
              "      <td>success</td>\n",
              "    </tr>\n",
              "    <tr>\n",
              "      <th>12</th>\n",
              "      <td>{'craft': 'Shenzhou 15', 'name': 'Zhang Lu'}</td>\n",
              "      <td>13</td>\n",
              "      <td>success</td>\n",
              "    </tr>\n",
              "  </tbody>\n",
              "</table>\n",
              "</div>\n",
              "      <button class=\"colab-df-convert\" onclick=\"convertToInteractive('df-383ea816-cb8f-4ff7-9730-50af0a5921b6')\"\n",
              "              title=\"Convert this dataframe to an interactive table.\"\n",
              "              style=\"display:none;\">\n",
              "        \n",
              "  <svg xmlns=\"http://www.w3.org/2000/svg\" height=\"24px\"viewBox=\"0 0 24 24\"\n",
              "       width=\"24px\">\n",
              "    <path d=\"M0 0h24v24H0V0z\" fill=\"none\"/>\n",
              "    <path d=\"M18.56 5.44l.94 2.06.94-2.06 2.06-.94-2.06-.94-.94-2.06-.94 2.06-2.06.94zm-11 1L8.5 8.5l.94-2.06 2.06-.94-2.06-.94L8.5 2.5l-.94 2.06-2.06.94zm10 10l.94 2.06.94-2.06 2.06-.94-2.06-.94-.94-2.06-.94 2.06-2.06.94z\"/><path d=\"M17.41 7.96l-1.37-1.37c-.4-.4-.92-.59-1.43-.59-.52 0-1.04.2-1.43.59L10.3 9.45l-7.72 7.72c-.78.78-.78 2.05 0 2.83L4 21.41c.39.39.9.59 1.41.59.51 0 1.02-.2 1.41-.59l7.78-7.78 2.81-2.81c.8-.78.8-2.07 0-2.86zM5.41 20L4 18.59l7.72-7.72 1.47 1.35L5.41 20z\"/>\n",
              "  </svg>\n",
              "      </button>\n",
              "      \n",
              "  <style>\n",
              "    .colab-df-container {\n",
              "      display:flex;\n",
              "      flex-wrap:wrap;\n",
              "      gap: 12px;\n",
              "    }\n",
              "\n",
              "    .colab-df-convert {\n",
              "      background-color: #E8F0FE;\n",
              "      border: none;\n",
              "      border-radius: 50%;\n",
              "      cursor: pointer;\n",
              "      display: none;\n",
              "      fill: #1967D2;\n",
              "      height: 32px;\n",
              "      padding: 0 0 0 0;\n",
              "      width: 32px;\n",
              "    }\n",
              "\n",
              "    .colab-df-convert:hover {\n",
              "      background-color: #E2EBFA;\n",
              "      box-shadow: 0px 1px 2px rgba(60, 64, 67, 0.3), 0px 1px 3px 1px rgba(60, 64, 67, 0.15);\n",
              "      fill: #174EA6;\n",
              "    }\n",
              "\n",
              "    [theme=dark] .colab-df-convert {\n",
              "      background-color: #3B4455;\n",
              "      fill: #D2E3FC;\n",
              "    }\n",
              "\n",
              "    [theme=dark] .colab-df-convert:hover {\n",
              "      background-color: #434B5C;\n",
              "      box-shadow: 0px 1px 3px 1px rgba(0, 0, 0, 0.15);\n",
              "      filter: drop-shadow(0px 1px 2px rgba(0, 0, 0, 0.3));\n",
              "      fill: #FFFFFF;\n",
              "    }\n",
              "  </style>\n",
              "\n",
              "      <script>\n",
              "        const buttonEl =\n",
              "          document.querySelector('#df-383ea816-cb8f-4ff7-9730-50af0a5921b6 button.colab-df-convert');\n",
              "        buttonEl.style.display =\n",
              "          google.colab.kernel.accessAllowed ? 'block' : 'none';\n",
              "\n",
              "        async function convertToInteractive(key) {\n",
              "          const element = document.querySelector('#df-383ea816-cb8f-4ff7-9730-50af0a5921b6');\n",
              "          const dataTable =\n",
              "            await google.colab.kernel.invokeFunction('convertToInteractive',\n",
              "                                                     [key], {});\n",
              "          if (!dataTable) return;\n",
              "\n",
              "          const docLinkHtml = 'Like what you see? Visit the ' +\n",
              "            '<a target=\"_blank\" href=https://colab.research.google.com/notebooks/data_table.ipynb>data table notebook</a>'\n",
              "            + ' to learn more about interactive tables.';\n",
              "          element.innerHTML = '';\n",
              "          dataTable['output_type'] = 'display_data';\n",
              "          await google.colab.output.renderOutput(dataTable, element);\n",
              "          const docLink = document.createElement('div');\n",
              "          docLink.innerHTML = docLinkHtml;\n",
              "          element.appendChild(docLink);\n",
              "        }\n",
              "      </script>\n",
              "    </div>\n",
              "  </div>\n",
              "  "
            ]
          },
          "metadata": {},
          "execution_count": 37
        }
      ]
    },
    {
      "cell_type": "code",
      "source": [],
      "metadata": {
        "id": "jQ0qKMZsRmsZ"
      },
      "execution_count": null,
      "outputs": []
    }
  ]
}